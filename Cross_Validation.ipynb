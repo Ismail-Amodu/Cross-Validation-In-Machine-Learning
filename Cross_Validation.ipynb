{
  "nbformat": 4,
  "nbformat_minor": 0,
  "metadata": {
    "colab": {
      "provenance": [],
      "authorship_tag": "ABX9TyN8AMmypENzRh3wbBl27f8u",
      "include_colab_link": true
    },
    "kernelspec": {
      "name": "python3",
      "display_name": "Python 3"
    },
    "language_info": {
      "name": "python"
    }
  },
  "cells": [
    {
      "cell_type": "markdown",
      "metadata": {
        "id": "view-in-github",
        "colab_type": "text"
      },
      "source": [
        "<a href=\"https://colab.research.google.com/github/Ismail-Amodu/Cross-Validation-In-Machine-Learning/blob/main/Cross_Validation.ipynb\" target=\"_parent\"><img src=\"https://colab.research.google.com/assets/colab-badge.svg\" alt=\"Open In Colab\"/></a>"
      ]
    },
    {
      "cell_type": "markdown",
      "source": [
        "**COMPARING DIFFERENT MODELS**"
      ],
      "metadata": {
        "id": "Q8NxIPjLCQ1s"
      }
    },
    {
      "cell_type": "code",
      "execution_count": null,
      "metadata": {
        "id": "2t0QhfheBiZw"
      },
      "outputs": [],
      "source": [
        "# Importing the dependencies\n",
        "import numpy as np\n",
        "import pandas as pd\n",
        "from sklearn.model_selection import train_test_split\n",
        "from sklearn.model_selection import cross_val_score\n",
        "from sklearn.metrics import accuracy_score"
      ]
    },
    {
      "cell_type": "code",
      "source": [
        "# Importing models\n",
        "from sklearn.linear_model import LogisticRegression\n",
        "from sklearn.svm import SVC\n",
        "from sklearn.neighbors import KNeighborsClassifier\n",
        "from sklearn.ensemble import RandomForestClassifier"
      ],
      "metadata": {
        "id": "dU_ZjU-WCoHR"
      },
      "execution_count": null,
      "outputs": []
    },
    {
      "cell_type": "markdown",
      "source": [
        "**DATA COLLECTION AND PROCESSING**"
      ],
      "metadata": {
        "id": "ivyWZyr5C7Lu"
      }
    },
    {
      "cell_type": "code",
      "source": [
        "# Loading the csv dataset into pandas dataframe\n",
        "heart_data = pd.read_csv('/content/heart_disease.csv')"
      ],
      "metadata": {
        "id": "oQoLSGs5CrCv"
      },
      "execution_count": null,
      "outputs": []
    },
    {
      "cell_type": "code",
      "source": [
        "# priinting the first five rows of the dataframe\n",
        "heart_data.head()"
      ],
      "metadata": {
        "id": "S1-eAoQcDHGh"
      },
      "execution_count": null,
      "outputs": []
    },
    {
      "cell_type": "code",
      "source": [
        "# priinting the last five rows of the dataframe\n",
        "heart_data.tail()"
      ],
      "metadata": {
        "id": "7aBLgr5qDPx1"
      },
      "execution_count": null,
      "outputs": []
    },
    {
      "cell_type": "code",
      "source": [
        "# getting the number of rows and column in the dataframe\n",
        "heart_data.shape"
      ],
      "metadata": {
        "id": "Kj3x_qXoDQWr"
      },
      "execution_count": null,
      "outputs": []
    },
    {
      "cell_type": "code",
      "source": [
        "# Getting some info about the data\n",
        "heart_data.info()"
      ],
      "metadata": {
        "id": "2VkpF9fLFGQE"
      },
      "execution_count": null,
      "outputs": []
    },
    {
      "cell_type": "code",
      "source": [
        "# Checking for missing values\n",
        "heart_data.isnull().sum()"
      ],
      "metadata": {
        "id": "mHj1z_sTFIqL"
      },
      "execution_count": null,
      "outputs": []
    },
    {
      "cell_type": "code",
      "source": [
        "# Obtaining the statistical measures of the data\n",
        "heart_data.describe()"
      ],
      "metadata": {
        "id": "-VppIIWrFLPB"
      },
      "execution_count": null,
      "outputs": []
    },
    {
      "cell_type": "code",
      "source": [
        "# Checking the distribution of the target variable to see if there is almost equal values\n",
        "heart_data['HeartDisease'].value_counts()"
      ],
      "metadata": {
        "id": "OLfhaLmsFNki"
      },
      "execution_count": null,
      "outputs": []
    },
    {
      "cell_type": "markdown",
      "source": [
        "Note: 1 denotes defective heart and 0 denotes healthy heart"
      ],
      "metadata": {
        "id": "xyKaUVR-FU7q"
      }
    },
    {
      "cell_type": "code",
      "source": [
        "# Splitting features and target\n",
        "X = heart_data.drop(columns='HeartDisease', axis=1)\n",
        "Y = heart_data['HeartDisease']\n",
        "print(X)\n",
        "print(Y)"
      ],
      "metadata": {
        "id": "iA0SdPKuFSo0"
      },
      "execution_count": null,
      "outputs": []
    },
    {
      "cell_type": "code",
      "source": [
        "# Splitting data into training data and test data\n",
        "X_train, X_test, Y_train, Y_test = train_test_split(X, Y, test_size=0.2, stratify=Y, random_state=3)\n",
        "print(X.shape, X_train.shape, X_test.shape)"
      ],
      "metadata": {
        "id": "t8GkhV4XFehx"
      },
      "execution_count": null,
      "outputs": []
    },
    {
      "cell_type": "markdown",
      "source": [
        "**MODEL TRAINING: Comparing the models performances**"
      ],
      "metadata": {
        "id": "NhCYJupoCL_w"
      }
    },
    {
      "cell_type": "code",
      "source": [
        "# list of models\n",
        "models = [LogisticRegression(max_iter=1000), SVC(kernel='linear'), KNeighborsClassifier(), RandomForestClassifier()]\n",
        "def compare_models_train_test():\n",
        "    for model in models:\n",
        "        # Models Training\n",
        "        model.fit(X_train, Y_train)\n",
        "\n",
        "        # Models Evaluation\n",
        "        test_data_prediction = accuracy_score(X_test)\n",
        "\n",
        "        accuracy = accuracy_score(Y_test, test_data_prediction)\n",
        "\n",
        "        print('Accuracy score of the ', model, '=', accuracy)"
      ],
      "metadata": {
        "id": "2urdr0CU9E0d"
      },
      "execution_count": null,
      "outputs": []
    },
    {
      "cell_type": "code",
      "source": [
        "compare_models_train_test()"
      ],
      "metadata": {
        "id": "4WKGAAeQCb3p"
      },
      "execution_count": null,
      "outputs": []
    },
    {
      "cell_type": "markdown",
      "source": [
        "**CROSS VALIDATION**"
      ],
      "metadata": {
        "id": "UyFSZmVHGmA8"
      }
    },
    {
      "cell_type": "code",
      "source": [
        "# Logistic regression\n",
        "cv_score_lr = cross_val_score(LogisticRegression(max_iter=1000), X, Y, cv=5)\n",
        "print(cv_score_lr)\n",
        "\n",
        "mean_accuracy_lr = sum(cv_score_lr)/len(cv_score_lr)\n",
        "mean_accuracy_lr = mean_accuracy_lr*100\n",
        "mean_accuracy_lr = round(mean_accuracy_lr, 2)\n",
        "print(mean_accuracy_lr)"
      ],
      "metadata": {
        "id": "8AAAT-OfGiB0"
      },
      "execution_count": null,
      "outputs": []
    },
    {
      "cell_type": "code",
      "source": [
        "# Support Vector Classifier\n",
        "cv_score_svc = cross_val_score(LogisticRegression(max_iter=1000), X, Y, cv=5)\n",
        "print(cv_score_svc)\n",
        "\n",
        "mean_accuracy_svc = sum(cv_score_svc)/len(cv_score_svc)\n",
        "mean_accuracy_svc = mean_accuracy_svc*100\n",
        "mean_accuracy_svc = round(mean_accuracy_svc, 2)\n",
        "print(mean_accuracy_svc)"
      ],
      "metadata": {
        "id": "p_bz5-_1GsvE"
      },
      "execution_count": null,
      "outputs": []
    }
  ]
}